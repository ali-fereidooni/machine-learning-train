{
 "cells": [
  {
   "cell_type": "markdown",
   "id": "e38f3c88-0ade-463d-b764-bc2bae983530",
   "metadata": {},
   "source": [
    "## Pandas"
   ]
  },
  {
   "cell_type": "code",
   "execution_count": 1,
   "id": "8248ab03-8550-4c5e-974b-d09860f87e6b",
   "metadata": {},
   "outputs": [],
   "source": [
    "import pandas as pd\n",
    "import numpy as np"
   ]
  },
  {
   "cell_type": "code",
   "execution_count": 8,
   "id": "60ca2b81-1c06-49a5-88c9-ae8852ed8c28",
   "metadata": {},
   "outputs": [
    {
     "data": {
      "text/plain": [
       "0       1\n",
       "1       2\n",
       "2       3\n",
       "3    jadi\n",
       "4       0\n",
       "5     NaN\n",
       "6      -1\n",
       "dtype: object"
      ]
     },
     "execution_count": 8,
     "metadata": {},
     "output_type": "execute_result"
    }
   ],
   "source": [
    "pd.Series([1,2,3, 'jadi', 0, np.nan, -1])"
   ]
  },
  {
   "cell_type": "code",
   "execution_count": 3,
   "id": "a2a9e020-9313-4504-80d7-6b199a338257",
   "metadata": {},
   "outputs": [
    {
     "data": {
      "text/plain": [
       "DatetimeIndex(['2024-01-01', '2024-01-02', '2024-01-03', '2024-01-04',\n",
       "               '2024-01-05', '2024-01-06'],\n",
       "              dtype='datetime64[ns]', freq='D')"
      ]
     },
     "execution_count": 3,
     "metadata": {},
     "output_type": "execute_result"
    }
   ],
   "source": [
    "dates = pd.date_range(\"20240101\", periods=6)\n",
    "dates"
   ]
  },
  {
   "cell_type": "code",
   "execution_count": 4,
   "id": "ced52b61-3a56-4ebe-bb1d-82aa61a4f849",
   "metadata": {},
   "outputs": [
    {
     "data": {
      "text/html": [
       "<div>\n",
       "<style scoped>\n",
       "    .dataframe tbody tr th:only-of-type {\n",
       "        vertical-align: middle;\n",
       "    }\n",
       "\n",
       "    .dataframe tbody tr th {\n",
       "        vertical-align: top;\n",
       "    }\n",
       "\n",
       "    .dataframe thead th {\n",
       "        text-align: right;\n",
       "    }\n",
       "</style>\n",
       "<table border=\"1\" class=\"dataframe\">\n",
       "  <thead>\n",
       "    <tr style=\"text-align: right;\">\n",
       "      <th></th>\n",
       "      <th>A</th>\n",
       "      <th>B</th>\n",
       "      <th>C</th>\n",
       "      <th>D</th>\n",
       "    </tr>\n",
       "  </thead>\n",
       "  <tbody>\n",
       "    <tr>\n",
       "      <th>2024-01-01</th>\n",
       "      <td>0.470765</td>\n",
       "      <td>1.078549</td>\n",
       "      <td>1.907844</td>\n",
       "      <td>0.849005</td>\n",
       "    </tr>\n",
       "    <tr>\n",
       "      <th>2024-01-02</th>\n",
       "      <td>-0.565239</td>\n",
       "      <td>0.218250</td>\n",
       "      <td>0.232703</td>\n",
       "      <td>0.730793</td>\n",
       "    </tr>\n",
       "    <tr>\n",
       "      <th>2024-01-03</th>\n",
       "      <td>0.449145</td>\n",
       "      <td>0.634506</td>\n",
       "      <td>-1.046647</td>\n",
       "      <td>-0.455126</td>\n",
       "    </tr>\n",
       "    <tr>\n",
       "      <th>2024-01-04</th>\n",
       "      <td>-0.133494</td>\n",
       "      <td>-0.484287</td>\n",
       "      <td>-0.086907</td>\n",
       "      <td>-0.794409</td>\n",
       "    </tr>\n",
       "    <tr>\n",
       "      <th>2024-01-05</th>\n",
       "      <td>0.806122</td>\n",
       "      <td>0.461019</td>\n",
       "      <td>-0.325563</td>\n",
       "      <td>2.705357</td>\n",
       "    </tr>\n",
       "    <tr>\n",
       "      <th>2024-01-06</th>\n",
       "      <td>0.276812</td>\n",
       "      <td>-2.225589</td>\n",
       "      <td>-1.478476</td>\n",
       "      <td>-0.252029</td>\n",
       "    </tr>\n",
       "  </tbody>\n",
       "</table>\n",
       "</div>"
      ],
      "text/plain": [
       "                   A         B         C         D\n",
       "2024-01-01  0.470765  1.078549  1.907844  0.849005\n",
       "2024-01-02 -0.565239  0.218250  0.232703  0.730793\n",
       "2024-01-03  0.449145  0.634506 -1.046647 -0.455126\n",
       "2024-01-04 -0.133494 -0.484287 -0.086907 -0.794409\n",
       "2024-01-05  0.806122  0.461019 -0.325563  2.705357\n",
       "2024-01-06  0.276812 -2.225589 -1.478476 -0.252029"
      ]
     },
     "execution_count": 4,
     "metadata": {},
     "output_type": "execute_result"
    }
   ],
   "source": [
    "df = pd.DataFrame(np.random.randn(6,4), index=dates, columns=['A', 'B', 'C', 'D'])\n",
    "df"
   ]
  },
  {
   "cell_type": "code",
   "execution_count": 34,
   "id": "e6472aa0-e0cf-4e37-8749-fed899e0a200",
   "metadata": {},
   "outputs": [
    {
     "data": {
      "text/html": [
       "<div>\n",
       "<style scoped>\n",
       "    .dataframe tbody tr th:only-of-type {\n",
       "        vertical-align: middle;\n",
       "    }\n",
       "\n",
       "    .dataframe tbody tr th {\n",
       "        vertical-align: top;\n",
       "    }\n",
       "\n",
       "    .dataframe thead th {\n",
       "        text-align: right;\n",
       "    }\n",
       "</style>\n",
       "<table border=\"1\" class=\"dataframe\">\n",
       "  <thead>\n",
       "    <tr style=\"text-align: right;\">\n",
       "      <th></th>\n",
       "      <th>A</th>\n",
       "      <th>B</th>\n",
       "      <th>C</th>\n",
       "      <th>D</th>\n",
       "    </tr>\n",
       "  </thead>\n",
       "  <tbody>\n",
       "    <tr>\n",
       "      <th>count</th>\n",
       "      <td>6.000000</td>\n",
       "      <td>6.000000</td>\n",
       "      <td>6.000000</td>\n",
       "      <td>6.000000</td>\n",
       "    </tr>\n",
       "    <tr>\n",
       "      <th>mean</th>\n",
       "      <td>0.450753</td>\n",
       "      <td>0.221205</td>\n",
       "      <td>0.293293</td>\n",
       "      <td>0.575270</td>\n",
       "    </tr>\n",
       "    <tr>\n",
       "      <th>std</th>\n",
       "      <td>1.494611</td>\n",
       "      <td>0.804149</td>\n",
       "      <td>1.231312</td>\n",
       "      <td>0.978352</td>\n",
       "    </tr>\n",
       "    <tr>\n",
       "      <th>min</th>\n",
       "      <td>-1.967675</td>\n",
       "      <td>-1.304176</td>\n",
       "      <td>-0.668931</td>\n",
       "      <td>-0.407149</td>\n",
       "    </tr>\n",
       "    <tr>\n",
       "      <th>25%</th>\n",
       "      <td>-0.011412</td>\n",
       "      <td>0.211509</td>\n",
       "      <td>-0.588074</td>\n",
       "      <td>-0.106035</td>\n",
       "    </tr>\n",
       "    <tr>\n",
       "      <th>50%</th>\n",
       "      <td>0.673026</td>\n",
       "      <td>0.368095</td>\n",
       "      <td>-0.189141</td>\n",
       "      <td>0.239636</td>\n",
       "    </tr>\n",
       "    <tr>\n",
       "      <th>75%</th>\n",
       "      <td>0.907459</td>\n",
       "      <td>0.640568</td>\n",
       "      <td>0.747369</td>\n",
       "      <td>1.312557</td>\n",
       "    </tr>\n",
       "    <tr>\n",
       "      <th>max</th>\n",
       "      <td>2.580097</td>\n",
       "      <td>1.004507</td>\n",
       "      <td>2.468481</td>\n",
       "      <td>1.930555</td>\n",
       "    </tr>\n",
       "  </tbody>\n",
       "</table>\n",
       "</div>"
      ],
      "text/plain": [
       "              A         B         C         D\n",
       "count  6.000000  6.000000  6.000000  6.000000\n",
       "mean   0.450753  0.221205  0.293293  0.575270\n",
       "std    1.494611  0.804149  1.231312  0.978352\n",
       "min   -1.967675 -1.304176 -0.668931 -0.407149\n",
       "25%   -0.011412  0.211509 -0.588074 -0.106035\n",
       "50%    0.673026  0.368095 -0.189141  0.239636\n",
       "75%    0.907459  0.640568  0.747369  1.312557\n",
       "max    2.580097  1.004507  2.468481  1.930555"
      ]
     },
     "execution_count": 34,
     "metadata": {},
     "output_type": "execute_result"
    }
   ],
   "source": [
    "df.describe()"
   ]
  },
  {
   "cell_type": "code",
   "execution_count": 35,
   "id": "20a1a811-f65b-4d74-a595-b8aa7864d2c1",
   "metadata": {},
   "outputs": [
    {
     "data": {
      "text/plain": [
       "A    0.450753\n",
       "B    0.221205\n",
       "C    0.293293\n",
       "D    0.575270\n",
       "dtype: float64"
      ]
     },
     "execution_count": 35,
     "metadata": {},
     "output_type": "execute_result"
    }
   ],
   "source": [
    "df.mean()"
   ]
  },
  {
   "cell_type": "code",
   "execution_count": 40,
   "id": "aed66d1f-e347-4c36-bfe3-488ec7dd9c33",
   "metadata": {},
   "outputs": [
    {
     "data": {
      "text/html": [
       "<div>\n",
       "<style scoped>\n",
       "    .dataframe tbody tr th:only-of-type {\n",
       "        vertical-align: middle;\n",
       "    }\n",
       "\n",
       "    .dataframe tbody tr th {\n",
       "        vertical-align: top;\n",
       "    }\n",
       "\n",
       "    .dataframe thead th {\n",
       "        text-align: right;\n",
       "    }\n",
       "</style>\n",
       "<table border=\"1\" class=\"dataframe\">\n",
       "  <thead>\n",
       "    <tr style=\"text-align: right;\">\n",
       "      <th></th>\n",
       "      <th>2024-01-01</th>\n",
       "      <th>2024-01-02</th>\n",
       "      <th>2024-01-03</th>\n",
       "      <th>2024-01-04</th>\n",
       "      <th>2024-01-05</th>\n",
       "      <th>2024-01-06</th>\n",
       "    </tr>\n",
       "  </thead>\n",
       "  <tbody>\n",
       "    <tr>\n",
       "      <th>A</th>\n",
       "      <td>0.922766</td>\n",
       "      <td>-1.967675</td>\n",
       "      <td>0.484517</td>\n",
       "      <td>2.580097</td>\n",
       "      <td>0.861536</td>\n",
       "      <td>-0.176722</td>\n",
       "    </tr>\n",
       "    <tr>\n",
       "      <th>B</th>\n",
       "      <td>1.004507</td>\n",
       "      <td>-1.304176</td>\n",
       "      <td>0.312383</td>\n",
       "      <td>0.712822</td>\n",
       "      <td>0.177884</td>\n",
       "      <td>0.423807</td>\n",
       "    </tr>\n",
       "    <tr>\n",
       "      <th>C</th>\n",
       "      <td>-0.636138</td>\n",
       "      <td>2.468481</td>\n",
       "      <td>0.974626</td>\n",
       "      <td>-0.443881</td>\n",
       "      <td>-0.668931</td>\n",
       "      <td>0.065600</td>\n",
       "    </tr>\n",
       "    <tr>\n",
       "      <th>D</th>\n",
       "      <td>0.172436</td>\n",
       "      <td>1.930555</td>\n",
       "      <td>1.647798</td>\n",
       "      <td>0.306836</td>\n",
       "      <td>-0.407149</td>\n",
       "      <td>-0.198858</td>\n",
       "    </tr>\n",
       "  </tbody>\n",
       "</table>\n",
       "</div>"
      ],
      "text/plain": [
       "   2024-01-01  2024-01-02  2024-01-03  2024-01-04  2024-01-05  2024-01-06\n",
       "A    0.922766   -1.967675    0.484517    2.580097    0.861536   -0.176722\n",
       "B    1.004507   -1.304176    0.312383    0.712822    0.177884    0.423807\n",
       "C   -0.636138    2.468481    0.974626   -0.443881   -0.668931    0.065600\n",
       "D    0.172436    1.930555    1.647798    0.306836   -0.407149   -0.198858"
      ]
     },
     "execution_count": 40,
     "metadata": {},
     "output_type": "execute_result"
    }
   ],
   "source": [
    "df.T"
   ]
  },
  {
   "cell_type": "code",
   "execution_count": 39,
   "id": "11b60498-deae-45d0-b3a0-ed1d6ea15267",
   "metadata": {},
   "outputs": [
    {
     "data": {
      "text/html": [
       "<div>\n",
       "<style scoped>\n",
       "    .dataframe tbody tr th:only-of-type {\n",
       "        vertical-align: middle;\n",
       "    }\n",
       "\n",
       "    .dataframe tbody tr th {\n",
       "        vertical-align: top;\n",
       "    }\n",
       "\n",
       "    .dataframe thead th {\n",
       "        text-align: right;\n",
       "    }\n",
       "</style>\n",
       "<table border=\"1\" class=\"dataframe\">\n",
       "  <thead>\n",
       "    <tr style=\"text-align: right;\">\n",
       "      <th></th>\n",
       "      <th>A</th>\n",
       "      <th>B</th>\n",
       "      <th>C</th>\n",
       "      <th>D</th>\n",
       "    </tr>\n",
       "  </thead>\n",
       "  <tbody>\n",
       "    <tr>\n",
       "      <th>2024-01-02</th>\n",
       "      <td>-1.967675</td>\n",
       "      <td>-1.304176</td>\n",
       "      <td>2.468481</td>\n",
       "      <td>1.930555</td>\n",
       "    </tr>\n",
       "    <tr>\n",
       "      <th>2024-01-05</th>\n",
       "      <td>0.861536</td>\n",
       "      <td>0.177884</td>\n",
       "      <td>-0.668931</td>\n",
       "      <td>-0.407149</td>\n",
       "    </tr>\n",
       "    <tr>\n",
       "      <th>2024-01-03</th>\n",
       "      <td>0.484517</td>\n",
       "      <td>0.312383</td>\n",
       "      <td>0.974626</td>\n",
       "      <td>1.647798</td>\n",
       "    </tr>\n",
       "    <tr>\n",
       "      <th>2024-01-06</th>\n",
       "      <td>-0.176722</td>\n",
       "      <td>0.423807</td>\n",
       "      <td>0.065600</td>\n",
       "      <td>-0.198858</td>\n",
       "    </tr>\n",
       "    <tr>\n",
       "      <th>2024-01-04</th>\n",
       "      <td>2.580097</td>\n",
       "      <td>0.712822</td>\n",
       "      <td>-0.443881</td>\n",
       "      <td>0.306836</td>\n",
       "    </tr>\n",
       "    <tr>\n",
       "      <th>2024-01-01</th>\n",
       "      <td>0.922766</td>\n",
       "      <td>1.004507</td>\n",
       "      <td>-0.636138</td>\n",
       "      <td>0.172436</td>\n",
       "    </tr>\n",
       "  </tbody>\n",
       "</table>\n",
       "</div>"
      ],
      "text/plain": [
       "                   A         B         C         D\n",
       "2024-01-02 -1.967675 -1.304176  2.468481  1.930555\n",
       "2024-01-05  0.861536  0.177884 -0.668931 -0.407149\n",
       "2024-01-03  0.484517  0.312383  0.974626  1.647798\n",
       "2024-01-06 -0.176722  0.423807  0.065600 -0.198858\n",
       "2024-01-04  2.580097  0.712822 -0.443881  0.306836\n",
       "2024-01-01  0.922766  1.004507 -0.636138  0.172436"
      ]
     },
     "execution_count": 39,
     "metadata": {},
     "output_type": "execute_result"
    }
   ],
   "source": [
    "df.sort_values(by=\"B\")"
   ]
  },
  {
   "cell_type": "code",
   "execution_count": 41,
   "id": "edfa5abe-2d7b-4a0e-8bb3-be9490a4af53",
   "metadata": {},
   "outputs": [
    {
     "data": {
      "text/html": [
       "<div>\n",
       "<style scoped>\n",
       "    .dataframe tbody tr th:only-of-type {\n",
       "        vertical-align: middle;\n",
       "    }\n",
       "\n",
       "    .dataframe tbody tr th {\n",
       "        vertical-align: top;\n",
       "    }\n",
       "\n",
       "    .dataframe thead th {\n",
       "        text-align: right;\n",
       "    }\n",
       "</style>\n",
       "<table border=\"1\" class=\"dataframe\">\n",
       "  <thead>\n",
       "    <tr style=\"text-align: right;\">\n",
       "      <th></th>\n",
       "      <th>A</th>\n",
       "      <th>B</th>\n",
       "      <th>C</th>\n",
       "      <th>D</th>\n",
       "    </tr>\n",
       "  </thead>\n",
       "  <tbody>\n",
       "    <tr>\n",
       "      <th>2024-01-01</th>\n",
       "      <td>0.922766</td>\n",
       "      <td>1.004507</td>\n",
       "      <td>-0.636138</td>\n",
       "      <td>0.172436</td>\n",
       "    </tr>\n",
       "    <tr>\n",
       "      <th>2024-01-03</th>\n",
       "      <td>0.484517</td>\n",
       "      <td>0.312383</td>\n",
       "      <td>0.974626</td>\n",
       "      <td>1.647798</td>\n",
       "    </tr>\n",
       "    <tr>\n",
       "      <th>2024-01-04</th>\n",
       "      <td>2.580097</td>\n",
       "      <td>0.712822</td>\n",
       "      <td>-0.443881</td>\n",
       "      <td>0.306836</td>\n",
       "    </tr>\n",
       "    <tr>\n",
       "      <th>2024-01-05</th>\n",
       "      <td>0.861536</td>\n",
       "      <td>0.177884</td>\n",
       "      <td>-0.668931</td>\n",
       "      <td>-0.407149</td>\n",
       "    </tr>\n",
       "  </tbody>\n",
       "</table>\n",
       "</div>"
      ],
      "text/plain": [
       "                   A         B         C         D\n",
       "2024-01-01  0.922766  1.004507 -0.636138  0.172436\n",
       "2024-01-03  0.484517  0.312383  0.974626  1.647798\n",
       "2024-01-04  2.580097  0.712822 -0.443881  0.306836\n",
       "2024-01-05  0.861536  0.177884 -0.668931 -0.407149"
      ]
     },
     "execution_count": 41,
     "metadata": {},
     "output_type": "execute_result"
    }
   ],
   "source": [
    "df[df[\"A\"] > 0]"
   ]
  },
  {
   "cell_type": "markdown",
   "id": "f007c21e-3231-44e3-be69-d83b656c00f6",
   "metadata": {},
   "source": [
    "## read and write operation"
   ]
  },
  {
   "cell_type": "code",
   "execution_count": 18,
   "id": "c67ea97c-8f26-4387-b6c5-c9f07c254a78",
   "metadata": {},
   "outputs": [],
   "source": [
    "df.to_csv(\"filee.csv\")"
   ]
  },
  {
   "cell_type": "code",
   "execution_count": 19,
   "id": "d0d1371c-acd6-4284-972b-c8979358e4e4",
   "metadata": {},
   "outputs": [
    {
     "data": {
      "text/html": [
       "<div>\n",
       "<style scoped>\n",
       "    .dataframe tbody tr th:only-of-type {\n",
       "        vertical-align: middle;\n",
       "    }\n",
       "\n",
       "    .dataframe tbody tr th {\n",
       "        vertical-align: top;\n",
       "    }\n",
       "\n",
       "    .dataframe thead th {\n",
       "        text-align: right;\n",
       "    }\n",
       "</style>\n",
       "<table border=\"1\" class=\"dataframe\">\n",
       "  <thead>\n",
       "    <tr style=\"text-align: right;\">\n",
       "      <th></th>\n",
       "      <th>Unnamed: 0</th>\n",
       "      <th>A</th>\n",
       "      <th>B</th>\n",
       "      <th>C</th>\n",
       "      <th>D</th>\n",
       "    </tr>\n",
       "  </thead>\n",
       "  <tbody>\n",
       "    <tr>\n",
       "      <th>0</th>\n",
       "      <td>2024-01-01</td>\n",
       "      <td>0.470765</td>\n",
       "      <td>1.078549</td>\n",
       "      <td>1.907844</td>\n",
       "      <td>0.849005</td>\n",
       "    </tr>\n",
       "    <tr>\n",
       "      <th>1</th>\n",
       "      <td>2024-01-02</td>\n",
       "      <td>-0.565239</td>\n",
       "      <td>0.218250</td>\n",
       "      <td>0.232703</td>\n",
       "      <td>0.730793</td>\n",
       "    </tr>\n",
       "    <tr>\n",
       "      <th>2</th>\n",
       "      <td>2024-01-03</td>\n",
       "      <td>0.449145</td>\n",
       "      <td>0.634506</td>\n",
       "      <td>-1.046647</td>\n",
       "      <td>-0.455126</td>\n",
       "    </tr>\n",
       "    <tr>\n",
       "      <th>3</th>\n",
       "      <td>2024-01-04</td>\n",
       "      <td>-0.133494</td>\n",
       "      <td>-0.484287</td>\n",
       "      <td>-0.086907</td>\n",
       "      <td>-0.794409</td>\n",
       "    </tr>\n",
       "    <tr>\n",
       "      <th>4</th>\n",
       "      <td>2024-01-05</td>\n",
       "      <td>0.806122</td>\n",
       "      <td>0.461019</td>\n",
       "      <td>-0.325563</td>\n",
       "      <td>2.705357</td>\n",
       "    </tr>\n",
       "    <tr>\n",
       "      <th>5</th>\n",
       "      <td>2024-01-06</td>\n",
       "      <td>0.276812</td>\n",
       "      <td>-2.225589</td>\n",
       "      <td>-1.478476</td>\n",
       "      <td>-0.252029</td>\n",
       "    </tr>\n",
       "  </tbody>\n",
       "</table>\n",
       "</div>"
      ],
      "text/plain": [
       "   Unnamed: 0         A         B         C         D\n",
       "0  2024-01-01  0.470765  1.078549  1.907844  0.849005\n",
       "1  2024-01-02 -0.565239  0.218250  0.232703  0.730793\n",
       "2  2024-01-03  0.449145  0.634506 -1.046647 -0.455126\n",
       "3  2024-01-04 -0.133494 -0.484287 -0.086907 -0.794409\n",
       "4  2024-01-05  0.806122  0.461019 -0.325563  2.705357\n",
       "5  2024-01-06  0.276812 -2.225589 -1.478476 -0.252029"
      ]
     },
     "execution_count": 19,
     "metadata": {},
     "output_type": "execute_result"
    }
   ],
   "source": [
    "pd.read_csv(\"filee.csv\")"
   ]
  }
 ],
 "metadata": {
  "kernelspec": {
   "display_name": "Python 3 (ipykernel)",
   "language": "python",
   "name": "python3"
  },
  "language_info": {
   "codemirror_mode": {
    "name": "ipython",
    "version": 3
   },
   "file_extension": ".py",
   "mimetype": "text/x-python",
   "name": "python",
   "nbconvert_exporter": "python",
   "pygments_lexer": "ipython3",
   "version": "3.11.4"
  }
 },
 "nbformat": 4,
 "nbformat_minor": 5
}
